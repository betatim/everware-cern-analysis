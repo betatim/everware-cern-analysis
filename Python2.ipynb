{
 "cells": [
  {
   "cell_type": "markdown",
   "metadata": {},
   "source": [
    "# Python 2\n",
    "\n",
    "Python 2 is installed in a separate `conda` environment called `py27`. This container uses the [anaconda](https://www.continuum.io/why-anaconda) python distribution."
   ]
  },
  {
   "cell_type": "code",
   "execution_count": 1,
   "metadata": {
    "collapsed": false
   },
   "outputs": [
    {
     "name": "stdout",
     "output_type": "stream",
     "text": [
      "/home/jupyter/conda/envs/py27/bin/python\r\n"
     ]
    }
   ],
   "source": [
    "!which python"
   ]
  },
  {
   "cell_type": "code",
   "execution_count": 2,
   "metadata": {
    "collapsed": false
   },
   "outputs": [
    {
     "name": "stdout",
     "output_type": "stream",
     "text": [
      "Python 2.7.10 :: Continuum Analytics, Inc.\r\n"
     ]
    }
   ],
   "source": [
    "!python --version"
   ]
  },
  {
   "cell_type": "markdown",
   "metadata": {},
   "source": [
    "## Installing additional packages\n",
    "\n",
    "In python 2 notebooks you get everything that is installed in this environment. This container is a \"base\" container, to further customise it you should create your own `docker` container that inherits from [this one](/edit/Dockerfile) and install things there.\n",
    "\n",
    "To quickly try out a new package from the notebook simply run:"
   ]
  },
  {
   "cell_type": "code",
   "execution_count": 3,
   "metadata": {
    "collapsed": false
   },
   "outputs": [
    {
     "name": "stdout",
     "output_type": "stream",
     "text": [
      "Fetching package metadata: ....\n",
      "Solving package specifications: .................\n",
      "Package plan for installation in environment /opt/conda/envs/py27:\n",
      "\n",
      "The following packages will be downloaded:\n",
      "\n",
      "    package                    |            build\n",
      "    ---------------------------|-----------------\n",
      "    openssl-1.0.2d             |                0         3.2 MB\n",
      "    nose-1.3.7                 |           py27_0         194 KB\n",
      "    python-2.7.10              |                2        12.0 MB\n",
      "    scikit-learn-0.16.1        |      np110py27_0         7.8 MB\n",
      "    ------------------------------------------------------------\n",
      "                                           Total:        23.1 MB\n",
      "\n",
      "The following NEW packages will be INSTALLED:\n",
      "\n",
      "    nose:         1.3.7-py27_0      \n",
      "    scikit-learn: 0.16.1-np110py27_0\n",
      "\n",
      "The following packages will be UPDATED:\n",
      "\n",
      "    openssl:      1.0.1k-1 --> 1.0.2d-0          \n",
      "    python:       2.7.10-1 --> 2.7.10-2          \n",
      "\n",
      "Fetching packages ...\n",
      "openssl-1.0.2d 100% |################################| Time: 0:00:03 866.70 kB/s\n",
      "nose-1.3.7-py2 100% |################################| Time: 0:00:00 310.43 kB/s\n",
      "python-2.7.10- 100% |################################| Time: 0:00:13 897.75 kB/s\n",
      "scikit-learn-0 100% |################################| Time: 0:00:15 540.90 kB/s\n",
      "Extracting packages ...\n",
      "[      COMPLETE      ]|###################################################| 100%\n",
      "Unlinking packages ...\n",
      "[      COMPLETE      ]|###################################################| 100%\n",
      "Linking packages ...\n",
      "[      COMPLETE      ]|###################################################| 100%\n"
     ]
    }
   ],
   "source": [
    "!conda install -n py27 -y scikit-learn"
   ]
  },
  {
   "cell_type": "code",
   "execution_count": 4,
   "metadata": {
    "collapsed": true
   },
   "outputs": [],
   "source": [
    "# You now have scikit-learn\n",
    "import sklearn"
   ]
  },
  {
   "cell_type": "code",
   "execution_count": null,
   "metadata": {
    "collapsed": true
   },
   "outputs": [],
   "source": []
  }
 ],
 "metadata": {
  "kernelspec": {
   "display_name": "Python 2",
   "language": "python",
   "name": "python2"
  },
  "language_info": {
   "codemirror_mode": {
    "name": "ipython",
    "version": 2
   },
   "file_extension": ".py",
   "mimetype": "text/x-python",
   "name": "python",
   "nbconvert_exporter": "python",
   "pygments_lexer": "ipython2",
   "version": "2.7.10"
  }
 },
 "nbformat": 4,
 "nbformat_minor": 0
}
