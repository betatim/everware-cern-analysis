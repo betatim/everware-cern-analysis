{
 "cells": [
  {
   "cell_type": "markdown",
   "metadata": {},
   "source": [
    "# CERNBox Support\n",
    "\n",
    "You can interact with your [CERNBox](http://cernbox.cern.ch) storage via the commandline.\n",
    "\n",
    "To get started [open a new terminal](/terminals/1). Authentication is handled via kerberos,\n",
    "so the first thing to do is to obtain a kerberos token with:\n",
    "```\n",
    "kinit <your_cern_usern_name>@CERN.CH\n",
    "```\n",
    "\n",
    "## Exploring your CERNBox\n",
    "\n",
    "After this you can start the commandline interface for CERNBox with the command `cb`. Once you have started it type `help` to get an overview of the available commands. To leave type `exit`. The files you see from the [CERNbox web interface](http://cernbox.cern.ch) are located at: `/eos/user/<initial>/<username>`. To list the contents of your CERNBox type: `ls eos/user/<initial>/<username>` after starting the `cb` commandline application. Under the hood `cb` is just an alias for `xrdfs`.\n",
    "\n",
    "\n",
    "## Copying files\n",
    "\n",
    "You can copy or retrieve files to and from CERNBox. For this you will have to use the `xrdcopy` program. For individual files we provide two convenience scripts: `cb-put.sh` and `cb-get.sh`. They will put or get a file from your CERNBox. For more complicated things like storing a whole directory we recommend you familiarise yourself with `xrdcopy` which is excellent.\n",
    "\n",
    "To get a file from your CERNBox:\n",
    "```\n",
    "cb-get.sh <source> <destination>\n",
    "```\n",
    "and to store a file on your CERNBox:\n",
    "```\n",
    "cb-put.sh <source> <destination>\n",
    "```\n",
    "These two scripts only work with individual files and not direcotries. For those please checkout\n",
    "\n",
    "## Saving everything to CERNBox\n",
    "\n",
    "You can save the state (with all the modifications you made) of the repository which was used to start this `everware` instance to your CERNbox by running\n",
    "```\n",
    "save-to-cernbox.sh\n",
    "```\n",
    "This will create a direcotry named `everware-DATE-TIME` in your CERNBox with all files in the `~/analysis` directory."
   ]
  }
 ],
 "metadata": {
  "kernelspec": {
   "display_name": "Python 2",
   "language": "python",
   "name": "python2"
  },
  "language_info": {
   "codemirror_mode": {
    "name": "ipython",
    "version": 2
   },
   "file_extension": ".py",
   "mimetype": "text/x-python",
   "name": "python",
   "nbconvert_exporter": "python",
   "pygments_lexer": "ipython2",
   "version": "2.7.10"
  }
 },
 "nbformat": 4,
 "nbformat_minor": 0
}
