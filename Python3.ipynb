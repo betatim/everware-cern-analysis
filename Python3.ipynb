{
 "cells": [
  {
   "cell_type": "markdown",
   "metadata": {},
   "source": [
    "# Python 3\n",
    "\n",
    "Python 3 is the default. This container uses the [anaconda](https://www.continuum.io/why-anaconda) python distribution."
   ]
  },
  {
   "cell_type": "code",
   "execution_count": 1,
   "metadata": {
    "collapsed": false
   },
   "outputs": [
    {
     "name": "stdout",
     "output_type": "stream",
     "text": [
      "/opt/conda/bin/python\r\n"
     ]
    }
   ],
   "source": [
    "!which python"
   ]
  },
  {
   "cell_type": "code",
   "execution_count": 2,
   "metadata": {
    "collapsed": false
   },
   "outputs": [
    {
     "name": "stdout",
     "output_type": "stream",
     "text": [
      "Python 3.4.3 :: Continuum Analytics, Inc.\r\n"
     ]
    }
   ],
   "source": [
    "!python --version"
   ]
  },
  {
   "cell_type": "markdown",
   "metadata": {
    "collapsed": true
   },
   "source": [
    "## Installing additional packages\n",
    "\n",
    "In python 3 notebooks you get everything that is installed in the default environment.\n",
    "\n",
    "This container is a \"base\" container, to further customise it you should create your own `docker` container that inherits from [this one](/edit/Dockerfile) and install things there.\n",
    "\n",
    "To quickly try out a new package from the notebook simply run:"
   ]
  },
  {
   "cell_type": "code",
   "execution_count": 1,
   "metadata": {
    "collapsed": false
   },
   "outputs": [
    {
     "name": "stdout",
     "output_type": "stream",
     "text": [
      "Fetching package metadata: ....\n",
      "Solving package specifications: .............\n",
      "Package plan for installation in environment /opt/conda:\n",
      "\n",
      "The following packages will be downloaded:\n",
      "\n",
      "    package                    |            build\n",
      "    ---------------------------|-----------------\n",
      "    conda-env-2.4.2            |           py34_0          24 KB\n",
      "    nose-1.3.7                 |           py34_0         195 KB\n",
      "    numpy-1.10.1               |           py34_0         5.8 MB\n",
      "    python-3.4.3               |                2        15.3 MB\n",
      "    requests-2.8.1             |           py34_0         647 KB\n",
      "    scipy-0.16.0               |      np110py34_1        23.4 MB\n",
      "    setuptools-18.4            |           py34_0         346 KB\n",
      "    wheel-0.26.0               |           py34_1          77 KB\n",
      "    conda-3.18.3               |           py34_0         179 KB\n",
      "    pip-7.1.2                  |           py34_0         1.5 MB\n",
      "    scikit-learn-0.16.1        |      np110py34_0         7.9 MB\n",
      "    ------------------------------------------------------------\n",
      "                                           Total:        55.3 MB\n",
      "\n",
      "The following NEW packages will be INSTALLED:\n",
      "\n",
      "    libgfortran:  1.0-0             \n",
      "    nose:         1.3.7-py34_0      \n",
      "    numpy:        1.10.1-py34_0     \n",
      "    openblas:     0.2.14-3          \n",
      "    scikit-learn: 0.16.1-np110py34_0\n",
      "    scipy:        0.16.0-np110py34_1\n",
      "\n",
      "The following packages will be UPDATED:\n",
      "\n",
      "    conda:        3.14.1-py34_0 --> 3.18.3-py34_0     \n",
      "    conda-env:    2.4.1-py34_0  --> 2.4.2-py34_0      \n",
      "    openssl:      1.0.1k-1      --> 1.0.2d-0          \n",
      "    pip:          7.1.0-py34_1  --> 7.1.2-py34_0      \n",
      "    python:       3.4.3-1       --> 3.4.3-2           \n",
      "    requests:     2.7.0-py34_0  --> 2.8.1-py34_0      \n",
      "    setuptools:   18.0.1-py34_0 --> 18.4-py34_0       \n",
      "    wheel:        0.24.0-py34_0 --> 0.26.0-py34_1     \n",
      "\n",
      "Fetching packages ...\n",
      "conda-env-2.4. 100% |################################| Time: 0:00:00 159.28 kB/s\n",
      "nose-1.3.7-py3 100% |################################| Time: 0:00:00 315.10 kB/s\n",
      "numpy-1.10.1-p 100% |################################| Time: 0:00:06 964.64 kB/s\n",
      "python-3.4.3-2 100% |################################| Time: 0:00:56 283.22 kB/s\n",
      "requests-2.8.1 100% |################################| Time: 0:00:01 589.47 kB/s\n",
      "scipy-0.16.0-n 100% |################################| Time: 0:00:25 975.14 kB/s\n",
      "setuptools-18. 100% |################################| Time: 0:00:00 431.76 kB/s\n",
      "wheel-0.26.0-p 100% |################################| Time: 0:00:00 243.09 kB/s\n",
      "conda-3.18.3-p 100% |################################| Time: 0:00:00 315.15 kB/s\n",
      "pip-7.1.2-py34 100% |################################| Time: 0:00:07 214.81 kB/s\n",
      "scikit-learn-0 100% |################################| Time: 0:00:09 855.94 kB/s\n",
      "Extracting packages ...\n",
      "[      COMPLETE      ]|###################################################| 100%\n",
      "Unlinking packages ...\n",
      "[      COMPLETE      ]|###################################################| 100%\n",
      "Linking packages ...\n",
      "[      COMPLETE      ]|###################################################| 100%\n"
     ]
    }
   ],
   "source": [
    "!conda install -y scikit-learn"
   ]
  },
  {
   "cell_type": "code",
   "execution_count": 2,
   "metadata": {
    "collapsed": true
   },
   "outputs": [],
   "source": [
    "# You now have scikit-learn\n",
    "import sklearn"
   ]
  }
 ],
 "metadata": {
  "kernelspec": {
   "display_name": "Python 3",
   "language": "python",
   "name": "python3"
  },
  "language_info": {
   "codemirror_mode": {
    "name": "ipython",
    "version": 3
   },
   "file_extension": ".py",
   "mimetype": "text/x-python",
   "name": "python",
   "nbconvert_exporter": "python",
   "pygments_lexer": "ipython3",
   "version": "3.4.3"
  }
 },
 "nbformat": 4,
 "nbformat_minor": 0
}
